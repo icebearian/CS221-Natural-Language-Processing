{
  "nbformat": 4,
  "nbformat_minor": 0,
  "metadata": {
    "colab": {
      "name": "NLP-LAB01.ipynb",
      "provenance": [],
      "authorship_tag": "ABX9TyMeD43lTsKCBnzPbRSc4V12",
      "include_colab_link": true
    },
    "kernelspec": {
      "name": "python3",
      "display_name": "Python 3"
    }
  },
  "cells": [
    {
      "cell_type": "markdown",
      "metadata": {
        "id": "view-in-github",
        "colab_type": "text"
      },
      "source": [
        "<a href=\"https://colab.research.google.com/github/icebearian/CS221-Natural-Language-Processing/blob/master/NLP_LAB01.ipynb\" target=\"_parent\"><img src=\"https://colab.research.google.com/assets/colab-badge.svg\" alt=\"Open In Colab\"/></a>"
      ]
    },
    {
      "cell_type": "code",
      "metadata": {
        "id": "ijSu_3AVkcUM"
      },
      "source": [
        "import re\n",
        "t = \"\"\"Chủ nhật, 11/10/2020, 08:03 (GMT+7)\n",
        "Phùng Thị Thắng, 24 tuổi, quê Bắc Giang, từng tham gia nhiều\n",
        "gameshow hài trên truyền hình, khai cần tiền trả nợ nên đi cướp ngân\n",
        "hàng.\n",
        "Sáng 11/10, Thắng bị Công an TP HCM điều tra về hành vi Cướp tài\n",
        "sản và các dấu hiệu tội phạm khác.\n",
        "Trưa hôm qua, sau khi cướp 2,1 tỷ đồng của Ngân hàng Techcombank\n",
        "trên đường Trương Vĩnh Ký, quận Tân Phú, Thắng tẩu thoát khỏi hiện\n",
        "trường bằng taxi. Cô ta vào nhiều trung tâm thương mại ở quận Tân\n",
        "Phú, Tân Bình, thay quần áo, mũ và các phụ kiện khác, valy... để nguỵ\n",
        "trang xoá dấu vết, tránh sự truy bắt của cảnh sát.\n",
        "Tuy nhiên, sau 3 giờ gây án, Thắng bị Công an TP HCM phối hợp Cục\n",
        "Cảnh sát Hình sự (C02, Bộ Công an) bắt giữ.\n",
        "Tin tức được lấy từ website vnexpress.net, tác giả: Q.T\"\"\""
      ],
      "execution_count": null,
      "outputs": []
    },
    {
      "cell_type": "code",
      "metadata": {
        "id": "hGuJXDZctY-x",
        "outputId": "c4c02fa0-086f-4f37-b0ce-3d80d13c6434",
        "colab": {
          "base_uri": "https://localhost:8080/",
          "height": 34
        }
      },
      "source": [
        "#Xác định các cá nhân\n",
        "p1 = re.compile(\"^([A-Z]\\w+(?:\\s+[A-Z]\\w+)+),\\s\\d+\\stuổi\",re.MULTILINE)\n",
        "p1.findall(t)"
      ],
      "execution_count": null,
      "outputs": [
        {
          "output_type": "execute_result",
          "data": {
            "text/plain": [
              "['Phùng Thị Thắng']"
            ]
          },
          "metadata": {
            "tags": []
          },
          "execution_count": 74
        }
      ]
    },
    {
      "cell_type": "code",
      "metadata": {
        "id": "EfsElXJ9pV8g",
        "outputId": "80560895-8c35-48da-c9b3-696506d711d6",
        "colab": {
          "base_uri": "https://localhost:8080/",
          "height": 34
        }
      },
      "source": [
        "#Xác định thời gian\n",
        "p2 = re.compile(\"\\d{2}/\\d{2}/\\d{4}|\\d{2}:\\d{2}|\\d{2}/\\d{2}\")\n",
        "p2.findall(t)"
      ],
      "execution_count": null,
      "outputs": [
        {
          "output_type": "execute_result",
          "data": {
            "text/plain": [
              "['11/10/2020', '08:03', '11/10']"
            ]
          },
          "metadata": {
            "tags": []
          },
          "execution_count": 75
        }
      ]
    },
    {
      "cell_type": "code",
      "metadata": {
        "id": "Uo7g6W3huPtu",
        "outputId": "d6ebabd6-fc8d-46a9-d8bf-c3105b0f8dee",
        "colab": {
          "base_uri": "https://localhost:8080/",
          "height": 35
        }
      },
      "source": [
        "p3 = re.compile(\"(?P<TEN>[A-Z]\\w+(?:\\s[A-Z]\\w+)+),\\s(?P<TUOI>\\d+)\\stuổi\")\n",
        "m = p3.search(t)\n",
        "m.expand(\"Bị cáo \\g<TEN> năm nay \\g<TUOI> tuổi\")"
      ],
      "execution_count": null,
      "outputs": [
        {
          "output_type": "execute_result",
          "data": {
            "application/vnd.google.colaboratory.intrinsic+json": {
              "type": "string"
            },
            "text/plain": [
              "'Bị cáo Phùng Thị Thắng năm nay 24 tuổi'"
            ]
          },
          "metadata": {
            "tags": []
          },
          "execution_count": 76
        }
      ]
    },
    {
      "cell_type": "code",
      "metadata": {
        "id": "ju6zcJhgwX1q",
        "outputId": "c0c8c636-fcbf-451e-b55a-4d4039424e1a",
        "colab": {
          "base_uri": "https://localhost:8080/",
          "height": 35
        }
      },
      "source": [
        "p4 = re.compile(\"cướp\\s(?P<SOTIEN>\\d+,\\d+.+đồng).+[Nn]gân\\shàng\\s(?P<TEN>[A-Z]\\w+(?:\\s[A-Z]\\w+)*)\")\n",
        "m = p4.search(t)\n",
        "m.expand(\"Ngân hàng \\g<TEN> bị cướp \\g<SOTIEN>\")"
      ],
      "execution_count": null,
      "outputs": [
        {
          "output_type": "execute_result",
          "data": {
            "application/vnd.google.colaboratory.intrinsic+json": {
              "type": "string"
            },
            "text/plain": [
              "'Ngân hàng Techcombank bị cướp 2,1 tỷ đồng'"
            ]
          },
          "metadata": {
            "tags": []
          },
          "execution_count": 77
        }
      ]
    },
    {
      "cell_type": "code",
      "metadata": {
        "id": "tLcJtO3JzKDA",
        "outputId": "2838ce49-43df-4524-d324-74fdf19666e0",
        "colab": {
          "base_uri": "https://localhost:8080/",
          "height": 252
        }
      },
      "source": [
        "#Đổi số thành kí hiệu NUM\n",
        "s = re.sub(\"\\s\\d+,?\\d\\s*\",\"NUM\",t)\n",
        "print(s)"
      ],
      "execution_count": null,
      "outputs": [
        {
          "output_type": "stream",
          "text": [
            "Chủ nhật,NUM/10/2020,NUM:03 (GMT+7)\n",
            "Phùng Thị Thắng,NUMtuổi, quê Bắc Giang, từng tham gia nhiều\n",
            "gameshow hài trên truyền hình, khai cần tiền trả nợ nên đi cướp ngân\n",
            "hàng.\n",
            "SángNUM/10, Thắng bị Công an TP HCM điều tra về hành vi Cướp tài\n",
            "sản và các dấu hiệu tội phạm khác.\n",
            "Trưa hôm qua, sau khi cướpNUMtỷ đồng của Ngân hàng Techcombank\n",
            "trên đường Trương Vĩnh Ký, quận Tân Phú, Thắng tẩu thoát khỏi hiện\n",
            "trường bằng taxi. Cô ta vào nhiều trung tâm thương mại ở quận Tân\n",
            "Phú, Tân Bình, thay quần áo, mũ và các phụ kiện khác, valy... để nguỵ\n",
            "trang xoá dấu vết, tránh sự truy bắt của cảnh sát.\n",
            "Tuy nhiên, sau 3 giờ gây án, Thắng bị Công an TP HCM phối hợp Cục\n",
            "Cảnh sát Hình sự (C02, Bộ Công an) bắt giữ.\n",
            "Tin tức được lấy từ website vnexpress.net, tác giả: Q.T\n"
          ],
          "name": "stdout"
        }
      ]
    }
  ]
}