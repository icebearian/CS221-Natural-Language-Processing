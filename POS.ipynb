{
  "nbformat": 4,
  "nbformat_minor": 0,
  "metadata": {
    "colab": {
      "name": "POS.ipynb",
      "provenance": [],
      "authorship_tag": "ABX9TyPkxVY+lQfU/L9Zy9MC+hqj",
      "include_colab_link": true
    },
    "kernelspec": {
      "name": "python3",
      "display_name": "Python 3"
    }
  },
  "cells": [
    {
      "cell_type": "markdown",
      "metadata": {
        "id": "view-in-github",
        "colab_type": "text"
      },
      "source": [
        "<a href=\"https://colab.research.google.com/github/icebearian/CS221-Natural-Language-Processing/blob/master/POS.ipynb\" target=\"_parent\"><img src=\"https://colab.research.google.com/assets/colab-badge.svg\" alt=\"Open In Colab\"/></a>"
      ]
    },
    {
      "cell_type": "code",
      "metadata": {
        "colab": {
          "base_uri": "https://localhost:8080/"
        },
        "id": "XTGowy8QIIlN",
        "outputId": "bfb806b0-fd90-48e7-b153-af4e53d2c695"
      },
      "source": [
        "# Importing libraries\r\n",
        "import nltk\r\n",
        "import numpy as np\r\n",
        "import pandas as pd\r\n",
        "import random\r\n",
        "from sklearn.model_selection import train_test_split\r\n",
        "import pprint, time\r\n",
        " \r\n",
        "#download the treebank corpus from nltk\r\n",
        "nltk.download('treebank')\r\n",
        " \r\n",
        "#download the universal tagset from nltk\r\n",
        "nltk.download('universal_tagset')\r\n",
        " \r\n",
        "# reading the Treebank tagged sentences\r\n",
        "nltk_data = list(nltk.corpus.treebank.tagged_sents(tagset='universal'))\r\n",
        " \r\n",
        "#print the first two sentences along with tags\r\n",
        "print(nltk_data[:2])"
      ],
      "execution_count": 1,
      "outputs": [
        {
          "output_type": "stream",
          "text": [
            "[nltk_data] Downloading package treebank to /root/nltk_data...\n",
            "[nltk_data]   Unzipping corpora/treebank.zip.\n",
            "[nltk_data] Downloading package universal_tagset to /root/nltk_data...\n",
            "[nltk_data]   Unzipping taggers/universal_tagset.zip.\n",
            "[[('Pierre', 'NOUN'), ('Vinken', 'NOUN'), (',', '.'), ('61', 'NUM'), ('years', 'NOUN'), ('old', 'ADJ'), (',', '.'), ('will', 'VERB'), ('join', 'VERB'), ('the', 'DET'), ('board', 'NOUN'), ('as', 'ADP'), ('a', 'DET'), ('nonexecutive', 'ADJ'), ('director', 'NOUN'), ('Nov.', 'NOUN'), ('29', 'NUM'), ('.', '.')], [('Mr.', 'NOUN'), ('Vinken', 'NOUN'), ('is', 'VERB'), ('chairman', 'NOUN'), ('of', 'ADP'), ('Elsevier', 'NOUN'), ('N.V.', 'NOUN'), (',', '.'), ('the', 'DET'), ('Dutch', 'NOUN'), ('publishing', 'VERB'), ('group', 'NOUN'), ('.', '.')]]\n"
          ],
          "name": "stdout"
        }
      ]
    },
    {
      "cell_type": "code",
      "metadata": {
        "colab": {
          "base_uri": "https://localhost:8080/"
        },
        "id": "mIDvJ3ULIOUK",
        "outputId": "4572df19-9e6f-435b-8784-8475fb84e1d1"
      },
      "source": [
        "#print each word with its respective tag for first two sentences\r\n",
        "for sent in nltk_data[:2]:\r\n",
        "  for tuple in sent:\r\n",
        "    print(tuple)"
      ],
      "execution_count": 2,
      "outputs": [
        {
          "output_type": "stream",
          "text": [
            "('Pierre', 'NOUN')\n",
            "('Vinken', 'NOUN')\n",
            "(',', '.')\n",
            "('61', 'NUM')\n",
            "('years', 'NOUN')\n",
            "('old', 'ADJ')\n",
            "(',', '.')\n",
            "('will', 'VERB')\n",
            "('join', 'VERB')\n",
            "('the', 'DET')\n",
            "('board', 'NOUN')\n",
            "('as', 'ADP')\n",
            "('a', 'DET')\n",
            "('nonexecutive', 'ADJ')\n",
            "('director', 'NOUN')\n",
            "('Nov.', 'NOUN')\n",
            "('29', 'NUM')\n",
            "('.', '.')\n",
            "('Mr.', 'NOUN')\n",
            "('Vinken', 'NOUN')\n",
            "('is', 'VERB')\n",
            "('chairman', 'NOUN')\n",
            "('of', 'ADP')\n",
            "('Elsevier', 'NOUN')\n",
            "('N.V.', 'NOUN')\n",
            "(',', '.')\n",
            "('the', 'DET')\n",
            "('Dutch', 'NOUN')\n",
            "('publishing', 'VERB')\n",
            "('group', 'NOUN')\n",
            "('.', '.')\n"
          ],
          "name": "stdout"
        }
      ]
    },
    {
      "cell_type": "code",
      "metadata": {
        "id": "4ae_CckjITOl"
      },
      "source": [
        "# split data into training and validation set in the ratio 80:20\r\n",
        "train_set,test_set =train_test_split(nltk_data,train_size=0.80,test_size=0.20,random_state = 101)\r\n"
      ],
      "execution_count": 3,
      "outputs": []
    },
    {
      "cell_type": "code",
      "metadata": {
        "colab": {
          "base_uri": "https://localhost:8080/"
        },
        "id": "3nPUKfqXIVvc",
        "outputId": "68294051-8327-4bbd-8115-92bd8cdc70cf"
      },
      "source": [
        "# create list of train and test tagged words\r\n",
        "train_tagged_words = [ tup for sent in train_set for tup in sent ]\r\n",
        "test_tagged_words = [ tup for sent in test_set for tup in sent ]\r\n",
        "print(len(train_tagged_words))\r\n",
        "print(len(test_tagged_words))"
      ],
      "execution_count": 4,
      "outputs": [
        {
          "output_type": "stream",
          "text": [
            "80310\n",
            "20366\n"
          ],
          "name": "stdout"
        }
      ]
    },
    {
      "cell_type": "code",
      "metadata": {
        "colab": {
          "base_uri": "https://localhost:8080/"
        },
        "id": "NRtnX5eBIZf_",
        "outputId": "817eb076-fd28-4230-c8c5-16d5c5b1d976"
      },
      "source": [
        "# check some of the tagged words.\r\n",
        "train_tagged_words[:5]"
      ],
      "execution_count": 5,
      "outputs": [
        {
          "output_type": "execute_result",
          "data": {
            "text/plain": [
              "[('Drink', 'NOUN'),\n",
              " ('Carrier', 'NOUN'),\n",
              " ('Competes', 'VERB'),\n",
              " ('With', 'ADP'),\n",
              " ('Cartons', 'NOUN')]"
            ]
          },
          "metadata": {
            "tags": []
          },
          "execution_count": 5
        }
      ]
    },
    {
      "cell_type": "code",
      "metadata": {
        "colab": {
          "base_uri": "https://localhost:8080/"
        },
        "id": "71PSNe7vIbGX",
        "outputId": "d9509c1b-b530-470e-c5c8-c2df39e50d08"
      },
      "source": [
        "#use set datatype to check how many unique tags are present in training data\r\n",
        "tags = {tag for word,tag in train_tagged_words}\r\n",
        "print(len(tags))\r\n",
        "print(tags)\r\n",
        " \r\n",
        "# check total words in vocabulary\r\n",
        "vocab = {word for word,tag in train_tagged_words}"
      ],
      "execution_count": 6,
      "outputs": [
        {
          "output_type": "stream",
          "text": [
            "12\n",
            "{'PRT', 'ADP', 'DET', 'VERB', 'NUM', 'X', 'NOUN', '.', 'CONJ', 'ADV', 'ADJ', 'PRON'}\n"
          ],
          "name": "stdout"
        }
      ]
    },
    {
      "cell_type": "code",
      "metadata": {
        "id": "mwqDh_nzIcji"
      },
      "source": [
        "# compute Emission Probability\r\n",
        "def word_given_tag(word, tag, train_bag = train_tagged_words):\r\n",
        "    tag_list = [pair for pair in train_bag if pair[1]==tag]\r\n",
        "    count_tag = len(tag_list)#total number of times the passed tag occurred in train_bag\r\n",
        "    w_given_tag_list = [pair[0] for pair in tag_list if pair[0]==word]\r\n",
        "#now calculate the total number of times the passed word occurred as the passed tag.\r\n",
        "    count_w_given_tag = len(w_given_tag_list)\r\n",
        " \r\n",
        "     \r\n",
        "    return (count_w_given_tag, count_tag)"
      ],
      "execution_count": 7,
      "outputs": []
    },
    {
      "cell_type": "code",
      "metadata": {
        "id": "FP1wZYGdId7e"
      },
      "source": [
        "# compute  Transition Probability\r\n",
        "def t2_given_t1(t2, t1, train_bag = train_tagged_words):\r\n",
        "    tags = [pair[1] for pair in train_bag]\r\n",
        "    count_t1 = len([t for t in tags if t==t1])\r\n",
        "    count_t2_t1 = 0\r\n",
        "    for index in range(len(tags)-1):\r\n",
        "        if tags[index]==t1 and tags[index+1] == t2:\r\n",
        "            count_t2_t1 += 1\r\n",
        "    return (count_t2_t1, count_t1)"
      ],
      "execution_count": 8,
      "outputs": []
    },
    {
      "cell_type": "code",
      "metadata": {
        "colab": {
          "base_uri": "https://localhost:8080/"
        },
        "id": "S1Ra8IjlIgSf",
        "outputId": "076ba857-ade5-45b8-c493-9a78da51f5d4"
      },
      "source": [
        "# creating t x t transition matrix of tags, t= no of tags\r\n",
        "# Matrix(i, j) represents P(jth tag after the ith tag)\r\n",
        " \r\n",
        "tags_matrix = np.zeros((len(tags), len(tags)), dtype='float32')\r\n",
        "for i, t1 in enumerate(list(tags)):\r\n",
        "    for j, t2 in enumerate(list(tags)): \r\n",
        "        tags_matrix[i, j] = t2_given_t1(t2, t1)[0]/t2_given_t1(t2, t1)[1]\r\n",
        " \r\n",
        "print(tags_matrix)"
      ],
      "execution_count": 9,
      "outputs": [
        {
          "output_type": "stream",
          "text": [
            "[[1.17416831e-03 1.95694715e-02 1.01369865e-01 4.01174158e-01\n",
            "  5.67514673e-02 1.21330721e-02 2.50489235e-01 4.50097844e-02\n",
            "  2.34833662e-03 9.39334650e-03 8.29745606e-02 1.76125243e-02]\n",
            " [1.26550242e-03 1.69577319e-02 3.20931405e-01 8.47886596e-03\n",
            "  6.32751212e-02 3.45482156e-02 3.23588967e-01 3.87243740e-02\n",
            "  1.01240189e-03 1.45532778e-02 1.07061505e-01 6.96026310e-02]\n",
            " [2.87480245e-04 9.91806854e-03 6.03708485e-03 4.02472317e-02\n",
            "  2.28546783e-02 4.51343954e-02 6.35906279e-01 1.73925534e-02\n",
            "  4.31220367e-04 1.20741697e-02 2.06410810e-01 3.30602261e-03]\n",
            " [3.06629837e-02 9.23572779e-02 1.33609578e-01 1.67955801e-01\n",
            "  2.28360966e-02 2.15930015e-01 1.10589318e-01 3.48066315e-02\n",
            "  5.43278083e-03 8.38858187e-02 6.63904250e-02 3.55432779e-02]\n",
            " [2.60621198e-02 3.74866128e-02 3.57015361e-03 2.07068902e-02\n",
            "  1.84219927e-01 2.02427700e-01 3.51660132e-01 1.19243130e-01\n",
            "  1.42806144e-02 3.57015361e-03 3.53445187e-02 1.42806140e-03]\n",
            " [1.85085520e-01 1.42225638e-01 5.68902567e-02 2.06419379e-01\n",
            "  3.07514891e-03 7.57255405e-02 6.16951771e-02 1.60868734e-01\n",
            "  1.03786280e-02 2.57543717e-02 1.76821072e-02 5.41995019e-02]\n",
            " [4.39345129e-02 1.76826611e-01 1.31063312e-02 1.49133503e-01\n",
            "  9.14395228e-03 2.88252197e-02 2.62344331e-01 2.40094051e-01\n",
            "  4.24540639e-02 1.68945398e-02 1.25838192e-02 4.65906132e-03]\n",
            " [2.78940029e-03 9.29084867e-02 1.72191828e-01 8.96899477e-02\n",
            "  7.82104954e-02 2.56410260e-02 2.18538776e-01 9.23720598e-02\n",
            "  6.00793920e-02 5.25694676e-02 4.61323895e-02 6.87694475e-02]\n",
            " [4.39077942e-03 5.59824370e-02 1.23490669e-01 1.50384188e-01\n",
            "  4.06147093e-02 9.33040585e-03 3.49066973e-01 3.51262353e-02\n",
            "  5.48847427e-04 5.70801310e-02 1.13611415e-01 6.03732169e-02]\n",
            " [1.47401085e-02 1.19472459e-01 7.13731572e-02 3.39022487e-01\n",
            "  2.98681147e-02 2.28859577e-02 3.21955010e-02 1.39255241e-01\n",
            "  6.98215654e-03 8.14584941e-02 1.30721495e-01 1.20248254e-02]\n",
            " [1.14563107e-02 8.05825219e-02 5.24271838e-03 1.14563107e-02\n",
            "  2.17475723e-02 2.09708735e-02 6.96893215e-01 6.60194159e-02\n",
            "  1.68932043e-02 5.24271838e-03 6.33009672e-02 1.94174761e-04]\n",
            " [1.41230067e-02 2.23234631e-02 9.56719834e-03 4.84738052e-01\n",
            "  6.83371304e-03 8.83826911e-02 2.12756261e-01 4.19134386e-02\n",
            "  5.01138950e-03 3.69020514e-02 7.06150308e-02 6.83371304e-03]]\n"
          ],
          "name": "stdout"
        }
      ]
    },
    {
      "cell_type": "code",
      "metadata": {
        "colab": {
          "base_uri": "https://localhost:8080/",
          "height": 421
        },
        "id": "q0GZ4IGsIiBM",
        "outputId": "9ea2bf0e-3fad-44a2-9ec1-5a0da9166fb5"
      },
      "source": [
        "# convert the matrix to a df for better readability\r\n",
        "#the table is same as the transition table shown in section 3 of article\r\n",
        "tags_df = pd.DataFrame(tags_matrix, columns = list(tags), index=list(tags))\r\n",
        "display(tags_df)"
      ],
      "execution_count": 10,
      "outputs": [
        {
          "output_type": "display_data",
          "data": {
            "text/html": [
              "<div>\n",
              "<style scoped>\n",
              "    .dataframe tbody tr th:only-of-type {\n",
              "        vertical-align: middle;\n",
              "    }\n",
              "\n",
              "    .dataframe tbody tr th {\n",
              "        vertical-align: top;\n",
              "    }\n",
              "\n",
              "    .dataframe thead th {\n",
              "        text-align: right;\n",
              "    }\n",
              "</style>\n",
              "<table border=\"1\" class=\"dataframe\">\n",
              "  <thead>\n",
              "    <tr style=\"text-align: right;\">\n",
              "      <th></th>\n",
              "      <th>PRT</th>\n",
              "      <th>ADP</th>\n",
              "      <th>DET</th>\n",
              "      <th>VERB</th>\n",
              "      <th>NUM</th>\n",
              "      <th>X</th>\n",
              "      <th>NOUN</th>\n",
              "      <th>.</th>\n",
              "      <th>CONJ</th>\n",
              "      <th>ADV</th>\n",
              "      <th>ADJ</th>\n",
              "      <th>PRON</th>\n",
              "    </tr>\n",
              "  </thead>\n",
              "  <tbody>\n",
              "    <tr>\n",
              "      <th>PRT</th>\n",
              "      <td>0.001174</td>\n",
              "      <td>0.019569</td>\n",
              "      <td>0.101370</td>\n",
              "      <td>0.401174</td>\n",
              "      <td>0.056751</td>\n",
              "      <td>0.012133</td>\n",
              "      <td>0.250489</td>\n",
              "      <td>0.045010</td>\n",
              "      <td>0.002348</td>\n",
              "      <td>0.009393</td>\n",
              "      <td>0.082975</td>\n",
              "      <td>0.017613</td>\n",
              "    </tr>\n",
              "    <tr>\n",
              "      <th>ADP</th>\n",
              "      <td>0.001266</td>\n",
              "      <td>0.016958</td>\n",
              "      <td>0.320931</td>\n",
              "      <td>0.008479</td>\n",
              "      <td>0.063275</td>\n",
              "      <td>0.034548</td>\n",
              "      <td>0.323589</td>\n",
              "      <td>0.038724</td>\n",
              "      <td>0.001012</td>\n",
              "      <td>0.014553</td>\n",
              "      <td>0.107062</td>\n",
              "      <td>0.069603</td>\n",
              "    </tr>\n",
              "    <tr>\n",
              "      <th>DET</th>\n",
              "      <td>0.000287</td>\n",
              "      <td>0.009918</td>\n",
              "      <td>0.006037</td>\n",
              "      <td>0.040247</td>\n",
              "      <td>0.022855</td>\n",
              "      <td>0.045134</td>\n",
              "      <td>0.635906</td>\n",
              "      <td>0.017393</td>\n",
              "      <td>0.000431</td>\n",
              "      <td>0.012074</td>\n",
              "      <td>0.206411</td>\n",
              "      <td>0.003306</td>\n",
              "    </tr>\n",
              "    <tr>\n",
              "      <th>VERB</th>\n",
              "      <td>0.030663</td>\n",
              "      <td>0.092357</td>\n",
              "      <td>0.133610</td>\n",
              "      <td>0.167956</td>\n",
              "      <td>0.022836</td>\n",
              "      <td>0.215930</td>\n",
              "      <td>0.110589</td>\n",
              "      <td>0.034807</td>\n",
              "      <td>0.005433</td>\n",
              "      <td>0.083886</td>\n",
              "      <td>0.066390</td>\n",
              "      <td>0.035543</td>\n",
              "    </tr>\n",
              "    <tr>\n",
              "      <th>NUM</th>\n",
              "      <td>0.026062</td>\n",
              "      <td>0.037487</td>\n",
              "      <td>0.003570</td>\n",
              "      <td>0.020707</td>\n",
              "      <td>0.184220</td>\n",
              "      <td>0.202428</td>\n",
              "      <td>0.351660</td>\n",
              "      <td>0.119243</td>\n",
              "      <td>0.014281</td>\n",
              "      <td>0.003570</td>\n",
              "      <td>0.035345</td>\n",
              "      <td>0.001428</td>\n",
              "    </tr>\n",
              "    <tr>\n",
              "      <th>X</th>\n",
              "      <td>0.185086</td>\n",
              "      <td>0.142226</td>\n",
              "      <td>0.056890</td>\n",
              "      <td>0.206419</td>\n",
              "      <td>0.003075</td>\n",
              "      <td>0.075726</td>\n",
              "      <td>0.061695</td>\n",
              "      <td>0.160869</td>\n",
              "      <td>0.010379</td>\n",
              "      <td>0.025754</td>\n",
              "      <td>0.017682</td>\n",
              "      <td>0.054200</td>\n",
              "    </tr>\n",
              "    <tr>\n",
              "      <th>NOUN</th>\n",
              "      <td>0.043935</td>\n",
              "      <td>0.176827</td>\n",
              "      <td>0.013106</td>\n",
              "      <td>0.149134</td>\n",
              "      <td>0.009144</td>\n",
              "      <td>0.028825</td>\n",
              "      <td>0.262344</td>\n",
              "      <td>0.240094</td>\n",
              "      <td>0.042454</td>\n",
              "      <td>0.016895</td>\n",
              "      <td>0.012584</td>\n",
              "      <td>0.004659</td>\n",
              "    </tr>\n",
              "    <tr>\n",
              "      <th>.</th>\n",
              "      <td>0.002789</td>\n",
              "      <td>0.092908</td>\n",
              "      <td>0.172192</td>\n",
              "      <td>0.089690</td>\n",
              "      <td>0.078210</td>\n",
              "      <td>0.025641</td>\n",
              "      <td>0.218539</td>\n",
              "      <td>0.092372</td>\n",
              "      <td>0.060079</td>\n",
              "      <td>0.052569</td>\n",
              "      <td>0.046132</td>\n",
              "      <td>0.068769</td>\n",
              "    </tr>\n",
              "    <tr>\n",
              "      <th>CONJ</th>\n",
              "      <td>0.004391</td>\n",
              "      <td>0.055982</td>\n",
              "      <td>0.123491</td>\n",
              "      <td>0.150384</td>\n",
              "      <td>0.040615</td>\n",
              "      <td>0.009330</td>\n",
              "      <td>0.349067</td>\n",
              "      <td>0.035126</td>\n",
              "      <td>0.000549</td>\n",
              "      <td>0.057080</td>\n",
              "      <td>0.113611</td>\n",
              "      <td>0.060373</td>\n",
              "    </tr>\n",
              "    <tr>\n",
              "      <th>ADV</th>\n",
              "      <td>0.014740</td>\n",
              "      <td>0.119472</td>\n",
              "      <td>0.071373</td>\n",
              "      <td>0.339022</td>\n",
              "      <td>0.029868</td>\n",
              "      <td>0.022886</td>\n",
              "      <td>0.032196</td>\n",
              "      <td>0.139255</td>\n",
              "      <td>0.006982</td>\n",
              "      <td>0.081458</td>\n",
              "      <td>0.130721</td>\n",
              "      <td>0.012025</td>\n",
              "    </tr>\n",
              "    <tr>\n",
              "      <th>ADJ</th>\n",
              "      <td>0.011456</td>\n",
              "      <td>0.080583</td>\n",
              "      <td>0.005243</td>\n",
              "      <td>0.011456</td>\n",
              "      <td>0.021748</td>\n",
              "      <td>0.020971</td>\n",
              "      <td>0.696893</td>\n",
              "      <td>0.066019</td>\n",
              "      <td>0.016893</td>\n",
              "      <td>0.005243</td>\n",
              "      <td>0.063301</td>\n",
              "      <td>0.000194</td>\n",
              "    </tr>\n",
              "    <tr>\n",
              "      <th>PRON</th>\n",
              "      <td>0.014123</td>\n",
              "      <td>0.022323</td>\n",
              "      <td>0.009567</td>\n",
              "      <td>0.484738</td>\n",
              "      <td>0.006834</td>\n",
              "      <td>0.088383</td>\n",
              "      <td>0.212756</td>\n",
              "      <td>0.041913</td>\n",
              "      <td>0.005011</td>\n",
              "      <td>0.036902</td>\n",
              "      <td>0.070615</td>\n",
              "      <td>0.006834</td>\n",
              "    </tr>\n",
              "  </tbody>\n",
              "</table>\n",
              "</div>"
            ],
            "text/plain": [
              "           PRT       ADP       DET  ...       ADV       ADJ      PRON\n",
              "PRT   0.001174  0.019569  0.101370  ...  0.009393  0.082975  0.017613\n",
              "ADP   0.001266  0.016958  0.320931  ...  0.014553  0.107062  0.069603\n",
              "DET   0.000287  0.009918  0.006037  ...  0.012074  0.206411  0.003306\n",
              "VERB  0.030663  0.092357  0.133610  ...  0.083886  0.066390  0.035543\n",
              "NUM   0.026062  0.037487  0.003570  ...  0.003570  0.035345  0.001428\n",
              "X     0.185086  0.142226  0.056890  ...  0.025754  0.017682  0.054200\n",
              "NOUN  0.043935  0.176827  0.013106  ...  0.016895  0.012584  0.004659\n",
              ".     0.002789  0.092908  0.172192  ...  0.052569  0.046132  0.068769\n",
              "CONJ  0.004391  0.055982  0.123491  ...  0.057080  0.113611  0.060373\n",
              "ADV   0.014740  0.119472  0.071373  ...  0.081458  0.130721  0.012025\n",
              "ADJ   0.011456  0.080583  0.005243  ...  0.005243  0.063301  0.000194\n",
              "PRON  0.014123  0.022323  0.009567  ...  0.036902  0.070615  0.006834\n",
              "\n",
              "[12 rows x 12 columns]"
            ]
          },
          "metadata": {
            "tags": []
          }
        }
      ]
    },
    {
      "cell_type": "code",
      "metadata": {
        "id": "lII9CHjNIjQl"
      },
      "source": [
        "def Viterbi(words, train_bag = train_tagged_words):\r\n",
        "    state = []\r\n",
        "    T = list(set([pair[1] for pair in train_bag]))\r\n",
        "     \r\n",
        "    for key, word in enumerate(words):\r\n",
        "        #initialise list of probability column for a given observation\r\n",
        "        p = [] \r\n",
        "        for tag in T:\r\n",
        "            if key == 0:\r\n",
        "                transition_p = tags_df.loc['.', tag]\r\n",
        "            else:\r\n",
        "                transition_p = tags_df.loc[state[-1], tag]\r\n",
        "                 \r\n",
        "            # compute emission and state probabilities\r\n",
        "            emission_p = word_given_tag(words[key], tag)[0]/word_given_tag(words[key], tag)[1]\r\n",
        "            state_probability = emission_p * transition_p    \r\n",
        "            p.append(state_probability)\r\n",
        "             \r\n",
        "        pmax = max(p)\r\n",
        "        # getting state for which probability is maximum\r\n",
        "        state_max = T[p.index(pmax)] \r\n",
        "        state.append(state_max)\r\n",
        "    return list(zip(words, state))"
      ],
      "execution_count": 11,
      "outputs": []
    },
    {
      "cell_type": "code",
      "metadata": {
        "id": "Bgb1pQSPIkwb"
      },
      "source": [
        "# Let's test our Viterbi algorithm on a few sample sentences of test dataset\r\n",
        "random.seed(1234)      #define a random seed to get same sentences when run multiple times\r\n",
        " \r\n",
        "# choose random 10 numbers\r\n",
        "rndom = [random.randint(1,len(test_set)) for x in range(10)]\r\n",
        " \r\n",
        "# list of 10 sents on which we test the model\r\n",
        "test_run = [test_set[i] for i in rndom]\r\n",
        " \r\n",
        "# list of tagged words\r\n",
        "test_run_base = [tup for sent in test_run for tup in sent]\r\n",
        " \r\n",
        "# list of untagged words\r\n",
        "test_tagged_words = [tup[0] for sent in test_run for tup in sent]"
      ],
      "execution_count": 12,
      "outputs": []
    },
    {
      "cell_type": "code",
      "metadata": {
        "colab": {
          "base_uri": "https://localhost:8080/"
        },
        "id": "NryNO2MyIm0C",
        "outputId": "c3a95e7e-4e31-4a84-a2c5-c9dd432f2104"
      },
      "source": [
        "#Here We will only test 10 sentences to check the accuracy\r\n",
        "#as testing the whole training set takes huge amount of time\r\n",
        "start = time.time()\r\n",
        "tagged_seq = Viterbi(test_tagged_words)\r\n",
        "end = time.time()\r\n",
        "difference = end-start\r\n",
        " \r\n",
        "print(\"Time taken in seconds: \", difference)\r\n",
        " \r\n",
        "# accuracy\r\n",
        "check = [i for i, j in zip(tagged_seq, test_run_base) if i == j] \r\n",
        " \r\n",
        "accuracy = len(check)/len(tagged_seq)\r\n",
        "print('Viterbi Algorithm Accuracy: ',accuracy*100)"
      ],
      "execution_count": 13,
      "outputs": [
        {
          "output_type": "stream",
          "text": [
            "Time taken in seconds:  27.44163942337036\n",
            "Viterbi Algorithm Accuracy:  93.77990430622009\n"
          ],
          "name": "stdout"
        }
      ]
    },
    {
      "cell_type": "code",
      "metadata": {
        "id": "d4sMheMFIoeu"
      },
      "source": [
        "#Code to test all the test sentences\r\n",
        "#(takes alot of time to run s0 we wont run it here)\r\n",
        "# tagging the test sentences()\r\n",
        "test_tagged_words = [tup for sent in test_set for tup in sent]\r\n",
        "test_untagged_words = [tup[0] for sent in test_set for tup in sent]\r\n",
        "test_untagged_words\r\n",
        " \r\n",
        "start = time.time()\r\n",
        "tagged_seq = Viterbi(test_untagged_words)\r\n",
        "end = time.time()\r\n",
        "difference = end-start\r\n",
        " \r\n",
        "print(\"Time taken in seconds: \", difference)\r\n",
        " \r\n",
        "# accuracy\r\n",
        "check = [i for i, j in zip(test_tagged_words, test_untagged_words) if i == j] \r\n",
        " \r\n",
        "accuracy = len(check)/len(tagged_seq)\r\n",
        "print('Viterbi Algorithm Accuracy: ',accuracy*100)"
      ],
      "execution_count": null,
      "outputs": []
    },
    {
      "cell_type": "code",
      "metadata": {
        "id": "Pp9ETffIIp08"
      },
      "source": [
        "#To improve the performance,we specify a rule base tagger for unknown words \r\n",
        "# specify patterns for tagging\r\n",
        "patterns = [\r\n",
        "    (r'.*ing$', 'VERB'),              # gerund\r\n",
        "    (r'.*ed$', 'VERB'),               # past tense \r\n",
        "    (r'.*es$', 'VERB'),               # verb    \r\n",
        "    (r'.*\\'s$', 'NOUN'),              # possessive nouns\r\n",
        "    (r'.*s$', 'NOUN'),                # plural nouns\r\n",
        "    (r'\\*T?\\*?-[0-9]+$', 'X'),        # X\r\n",
        "    (r'^-?[0-9]+(.[0-9]+)?$', 'NUM'), # cardinal numbers\r\n",
        "    (r'.*', 'NOUN')                   # nouns\r\n",
        "]\r\n",
        " \r\n",
        "# rule based tagger\r\n",
        "rule_based_tagger = nltk.RegexpTagger(patterns)"
      ],
      "execution_count": null,
      "outputs": []
    },
    {
      "cell_type": "code",
      "metadata": {
        "id": "0EdnkSpsIrOo"
      },
      "source": [
        "#modified Viterbi to include rule based tagger in it\r\n",
        "def Viterbi_rule_based(words, train_bag = train_tagged_words):\r\n",
        "    state = []\r\n",
        "    T = list(set([pair[1] for pair in train_bag]))\r\n",
        "     \r\n",
        "    for key, word in enumerate(words):\r\n",
        "        #initialise list of probability column for a given observation\r\n",
        "        p = [] \r\n",
        "        for tag in T:\r\n",
        "            if key == 0:\r\n",
        "                transition_p = tags_df.loc['.', tag]\r\n",
        "            else:\r\n",
        "                transition_p = tags_df.loc[state[-1], tag]\r\n",
        "                 \r\n",
        "            # compute emission and state probabilities\r\n",
        "            emission_p = word_given_tag(words[key], tag)[0]/word_given_tag(words[key], tag)[1]\r\n",
        "            state_probability = emission_p * transition_p    \r\n",
        "            p.append(state_probability)\r\n",
        "             \r\n",
        "        pmax = max(p)\r\n",
        "        state_max = rule_based_tagger.tag([word])[0][1]       \r\n",
        "        \r\n",
        "         \r\n",
        "        if(pmax==0):\r\n",
        "            state_max = rule_based_tagger.tag([word])[0][1] # assign based on rule based tagger\r\n",
        "        else:\r\n",
        "            if state_max != 'X':\r\n",
        "                # getting state for which probability is maximum\r\n",
        "                state_max = T[p.index(pmax)]                \r\n",
        "             \r\n",
        "         \r\n",
        "        state.append(state_max)\r\n",
        "    return list(zip(words, state))"
      ],
      "execution_count": null,
      "outputs": []
    },
    {
      "cell_type": "code",
      "metadata": {
        "id": "kJXGBNiIIsSO"
      },
      "source": [
        "#test accuracy on subset of test data \r\n",
        "start = time.time()\r\n",
        "tagged_seq = Viterbi_rule_based(test_tagged_words)\r\n",
        "end = time.time()\r\n",
        "difference = end-start\r\n",
        " \r\n",
        "print(\"Time taken in seconds: \", difference)\r\n",
        " \r\n",
        "# accuracy\r\n",
        "check = [i for i, j in zip(tagged_seq, test_run_base) if i == j] \r\n",
        " \r\n",
        "accuracy = len(check)/len(tagged_seq)\r\n",
        "print('Viterbi Algorithm Accuracy: ',accuracy*100)"
      ],
      "execution_count": null,
      "outputs": []
    },
    {
      "cell_type": "code",
      "metadata": {
        "id": "4VSos5gFItsV"
      },
      "source": [
        "#Check how a sentence is tagged by the two POS taggers\r\n",
        "#and compare them\r\n",
        "test_sent=\"Will can see Marry\"\r\n",
        "pred_tags_rule=Viterbi_rule_based(test_sent.split())\r\n",
        "pred_tags_withoutRules= Viterbi(test_sent.split())\r\n",
        "print(pred_tags_rule)\r\n",
        "print(pred_tags_withoutRules)\r\n",
        "#Will and Marry are tagged as NUM as they are unknown words for Viterbi Algorithm "
      ],
      "execution_count": null,
      "outputs": []
    }
  ]
}