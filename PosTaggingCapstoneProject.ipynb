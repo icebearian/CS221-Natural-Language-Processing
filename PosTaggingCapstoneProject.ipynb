{
  "nbformat": 4,
  "nbformat_minor": 0,
  "metadata": {
    "colab": {
      "name": "PosTaggingCapstoneProject.ipynb",
      "provenance": [],
      "authorship_tag": "ABX9TyOmZjcjTLDbiVU81xNrjSmP",
      "include_colab_link": true
    },
    "kernelspec": {
      "name": "python3",
      "display_name": "Python 3"
    }
  },
  "cells": [
    {
      "cell_type": "markdown",
      "metadata": {
        "id": "view-in-github",
        "colab_type": "text"
      },
      "source": [
        "<a href=\"https://colab.research.google.com/github/icebearian/CS221-Natural-Language-Processing/blob/master/PosTaggingCapstoneProject.ipynb\" target=\"_parent\"><img src=\"https://colab.research.google.com/assets/colab-badge.svg\" alt=\"Open In Colab\"/></a>"
      ]
    },
    {
      "cell_type": "markdown",
      "metadata": {
        "id": "5JD76eArYJHv"
      },
      "source": [
        "# Đề tài: **Tách từ và gán nhãn từ loại bằng Hidden Markov Model.**\r\n",
        "---"
      ]
    },
    {
      "cell_type": "markdown",
      "metadata": {
        "id": "WP17Vb4mQ1nK"
      },
      "source": [
        "# **Tạo ngữ liệu**\r\n",
        "---\r\n",
        "> Bao gồm **30** câu đã được gán nhãn từ loại:\r\n",
        "- **25** câu dùng để train\r\n",
        "- **5** câu dùng để làm dữ liệu **gold** cho quá trình tính toán độ chính xác."
      ]
    },
    {
      "cell_type": "code",
      "metadata": {
        "id": "BxWPB-jBQwJm"
      },
      "source": [
        "gold_data = [('Alex', 'NNP'),('was', 'NNP'),('born', 'VB'),('in', 'NNP'),('California', 'NNP')]"
      ],
      "execution_count": 38,
      "outputs": []
    },
    {
      "cell_type": "code",
      "metadata": {
        "id": "4JKtEKpOcfPm"
      },
      "source": [
        "train_data = [\r\n",
        "              [('Alex', 'NNP'), ('was', 'NNP'), ('born', 'NNP'), ('in', 'NNP'), ('Connecticut', 'NNP'), ('.', 'NNP')],\r\n",
        "              [('Joe', 'NNP'), ('met', 'VBD'), ('Joanne', 'NNP'), ('in', 'IN'), ('Delhi', 'NNP'), ('.', 'NNP')],\r\n",
        "              [('Chicago', 'NNP'), ('is', 'VBZ'), ('the', 'DT'), ('birthpace', 'NNP'), ('of', 'NNP'), ('Ginny', 'NNP')]\r\n",
        "              ]\r\n",
        "#print (\"Train data:\", train_data)"
      ],
      "execution_count": 39,
      "outputs": []
    },
    {
      "cell_type": "markdown",
      "metadata": {
        "id": "nI1NDMIGaar2"
      },
      "source": [
        "# **GÁN NHÃN TỪ LOẠI (PART-OF-SPEECH Tagging)**\r\n",
        "---\r\n",
        "\r\n"
      ]
    },
    {
      "cell_type": "markdown",
      "metadata": {
        "id": "STGQqNC1Sp_S"
      },
      "source": [
        "# **Huấn luyện dữ liệu**\r\n",
        "---\r\n",
        "Sử dụng mô hình **Hidden Markov Model** với phương pháp smoothing là **Laplace**.:\r\n"
      ]
    },
    {
      "cell_type": "code",
      "metadata": {
        "id": "rwm9g0EPQYJr"
      },
      "source": [
        "from nltk.tag.hmm import HiddenMarkovModelTrainer\r\n",
        "from nltk.probability import LaplaceProbDist\r\n",
        "trainer = HiddenMarkovModelTrainer()\r\n",
        "tagger = trainer.train_supervised(train_data,estimator=LaplaceProbDist)"
      ],
      "execution_count": 40,
      "outputs": []
    },
    {
      "cell_type": "markdown",
      "metadata": {
        "id": "WjgE-Md4S9ti"
      },
      "source": [
        "# **Đánh giá**\r\n",
        "---\r\n",
        "Sử dụng độ chính xác **(Accuracy)** bằng công thức:<br>\r\n",
        "$Acc = \\frac{n}{N}$<br>\r\n",
        "- $n$ là số lượng nhãn dự đoán đúng\r\n",
        "- $N$ là tổng số lượng nhãn (tương ứng với số lượng\r\n",
        "từ) trong ngữ liệu Gold.<br>"
      ]
    },
    {
      "cell_type": "code",
      "metadata": {
        "colab": {
          "base_uri": "https://localhost:8080/"
        },
        "id": "88shaFa1QaIG",
        "outputId": "04502115-0f30-4433-f96a-00bbfac941c0"
      },
      "source": [
        "INPUT = input(\"Test: \")\r\n",
        "#Alex was born in California\r\n",
        "pos =tagger.tag(INPUT.split())\r\n",
        "print(\"Gold:\",gold_data)\r\n",
        "count = 0\r\n",
        "for i in range(len(pos)):\r\n",
        "  if pos[i][1] == gold_data[i][1]:\r\n",
        "    count += 1\r\n",
        "print(\"Kết quả dự đoán: \",pos)\r\n",
        "print(\"Accuracy:\",count/len(pos))"
      ],
      "execution_count": 41,
      "outputs": [
        {
          "output_type": "stream",
          "text": [
            "Test: Alex was born in California\n",
            "Gold: [('Alex', 'NNP'), ('was', 'NNP'), ('born', 'VB'), ('in', 'NNP'), ('California', 'NNP')]\n",
            "Kết quả dự đoán:  [('Alex', 'NNP'), ('was', 'NNP'), ('born', 'NNP'), ('in', 'NNP'), ('California', 'NNP')]\n",
            "Accuracy: 0.8\n"
          ],
          "name": "stdout"
        }
      ]
    },
    {
      "cell_type": "markdown",
      "metadata": {
        "id": "syg9gkwNf_Ye"
      },
      "source": [
        "# **Biểu đồ so sánh đánh giá có và không Laplace**\r\n",
        "---"
      ]
    },
    {
      "cell_type": "markdown",
      "metadata": {
        "id": "fxX-HOLmaXBY"
      },
      "source": [
        "# **XÁC ĐỊNH TỪ GỐC (WORD TOKENIZATION)**\r\n",
        "---"
      ]
    },
    {
      "cell_type": "markdown",
      "metadata": {
        "id": "kpIm4w90dswD"
      },
      "source": [
        "# **So sánh kết quả với thư viện Stanford CoreNLP**\r\n",
        "---"
      ]
    },
    {
      "cell_type": "code",
      "metadata": {
        "colab": {
          "base_uri": "https://localhost:8080/"
        },
        "id": "RFjufRcodJzV",
        "outputId": "536dc577-4074-45d4-9ffa-87f0bd4be69f"
      },
      "source": [
        "import stanfordnlp\r\n",
        "#stanfordnlp.download(\"en\")\r\n",
        "nlp = stanfordnlp.Pipeline(processors='tokenize,mwt,pos,lemma')"
      ],
      "execution_count": 42,
      "outputs": [
        {
          "output_type": "stream",
          "text": [
            "Use device: cpu\n",
            "---\n",
            "Loading: tokenize\n",
            "With settings: \n",
            "{'model_path': '/root/stanfordnlp_resources/en_ewt_models/en_ewt_tokenizer.pt', 'lang': 'en', 'shorthand': 'en_ewt', 'mode': 'predict'}\n",
            "---\n",
            "Loading: pos\n",
            "With settings: \n",
            "{'model_path': '/root/stanfordnlp_resources/en_ewt_models/en_ewt_tagger.pt', 'pretrain_path': '/root/stanfordnlp_resources/en_ewt_models/en_ewt.pretrain.pt', 'lang': 'en', 'shorthand': 'en_ewt', 'mode': 'predict'}\n",
            "---\n",
            "Loading: lemma\n",
            "With settings: \n",
            "{'model_path': '/root/stanfordnlp_resources/en_ewt_models/en_ewt_lemmatizer.pt', 'lang': 'en', 'shorthand': 'en_ewt', 'mode': 'predict'}\n",
            "Building an attentional Seq2Seq model...\n",
            "Using a Bi-LSTM encoder\n",
            "Using soft attention for LSTM.\n",
            "Finetune all embeddings.\n",
            "[Running seq2seq lemmatizer with edit classifier]\n",
            "Done loading processors!\n",
            "---\n"
          ],
          "name": "stdout"
        }
      ]
    },
    {
      "cell_type": "code",
      "metadata": {
        "colab": {
          "base_uri": "https://localhost:8080/"
        },
        "id": "50FAdNnvbrnW",
        "outputId": "e68d6fa2-35e1-4071-d130-ebcd3728bb85"
      },
      "source": [
        "doc = nlp(INPUT)\r\n",
        "print(*[f'word: {word.text+\" \"}\\tlemma: {word.lemma}\\tPOS: {word.pos}' for sent in doc.sentences for word in sent.words], sep='\\n')\r\n",
        "#print(*[f'word: {word.text+\" \"}\\tPOS: {word.pos}' for sent in doc.sentences for word in sent.words], sep='\\n')"
      ],
      "execution_count": 43,
      "outputs": [
        {
          "output_type": "stream",
          "text": [
            "word: Alex \tlemma: Alex\tPOS: NNP\n",
            "word: was \tlemma: be\tPOS: VBD\n",
            "word: born \tlemma: bear\tPOS: VBN\n",
            "word: in \tlemma: in\tPOS: IN\n",
            "word: California \tlemma: California\tPOS: NNP\n"
          ],
          "name": "stdout"
        }
      ]
    }
  ]
}